{
 "cells": [
  {
   "cell_type": "markdown",
   "metadata": {},
   "source": [
    "데이터 분석을 할 때 여러 파일에서 공통적으로 이용되는 부분들이 있습니다. 데이터 로딩하는 함수들이 대표적입니다. 또한 데이터 분석을 하다보면 나만의 코드를 쌓는 일들이 생깁니다. 이 때, 반복적으로 사용하는 함수들을 패키지로 만들어두면 편리합니다. 파이썬 파일은 .py 로 저장하면 됩니다. Ipython notebook (*.ipynb) 파일이 위치하는 폴더에 hello.py 라는 파일을 만들었습니다. Ipython notebook 파일과 같은 폴더에 위치한 .py 파일의 함수는 곧바로 import 를 할 수 있습니다."
   ]
  },
  {
   "cell_type": "code",
   "execution_count": null,
   "metadata": {},
   "outputs": [],
   "source": [
    "from hello import say_hello\n",
    "\n",
    "say_hello()"
   ]
  },
  {
   "cell_type": "code",
   "execution_count": null,
   "metadata": {},
   "outputs": [],
   "source": [
    "say_hello('lovit')"
   ]
  },
  {
   "cell_type": "markdown",
   "metadata": {},
   "source": [
    "하지만 다른 폴더에 있는 .py 나 패키지는 곧바로 import 를 할 수 없습니다.\n",
    "\n",
    "파이썬은 sys.path 안에 패키지가 저장되어 있는 폴더 리스트를 저장해 둡니다. 그리고 이 리스트를 돌면서 패키지가 있는지 확인합니다."
   ]
  },
  {
   "cell_type": "code",
   "execution_count": null,
   "metadata": {},
   "outputs": [],
   "source": [
    "import sys\n",
    "sys.path"
   ]
  },
  {
   "cell_type": "markdown",
   "metadata": {},
   "source": [
    "이 sys.path 안에 import 할 패키지의 주소를 추가하면 그 패키지를 이용할 수 있습니다.\n",
    "\n",
    "우리가 이용할 데이터셋은 `dataset_dir` 에 위치하고 있습니다. 그리고 데이터 폴더에 들어가시면 \\_\\_init\\_\\_.py 파일이 있습니다. init 파일은 해당 폴더를 패키지로 만드는 파이썬 파일입니다. 패키지를 만드는 것이 더 궁금하시면 이 [링크](https://wikidocs.net/1418) 를 살펴보시기 바랍니다. `점프 투 파이썬`의 설명입니다."
   ]
  },
  {
   "cell_type": "code",
   "execution_count": 2,
   "metadata": {},
   "outputs": [
    {
     "output_type": "stream",
     "name": "stdout",
     "text": "C:\\Users\\vasco\\ws_machine_learning\\lovit\\textmining_dataset\\\n"
    }
   ],
   "source": [
    "from config import dataset_dir\n",
    "print(dataset_dir)\n",
    "sys.path.append(dataset_dir)"
   ]
  },
  {
   "cell_type": "code",
   "execution_count": 13,
   "metadata": {},
   "outputs": [
    {
     "output_type": "stream",
     "name": "stdout",
     "text": "[navermovie_comments.data] is latest (0.0.5)\n[navermovie_comments.models] newly uploaded. need to download\n[navernews_10days.data] newly uploaded. need to download\n[navernews_10days.models] newly uploaded. need to download\n[carblog_dataset.texts] newly uploaded. need to download\n[carblog_dataset.index] newly uploaded. need to download\n"
    }
   ],
   "source": [
    "from lovit_textmining_dataset import version_check\n",
    "\n",
    "version_check()"
   ]
  },
  {
   "cell_type": "code",
   "execution_count": 12,
   "metadata": {},
   "outputs": [
    {
     "output_type": "stream",
     "name": "stdout",
     "text": "[navermovie_comments.data] is latest (0.0.5)\n"
    }
   ],
   "source": [
    "from lovit_textmining_dataset import fetch\n",
    "fetch(dataset='navermovie_comments', content='data')"
   ]
  },
  {
   "cell_type": "code",
   "execution_count": 14,
   "metadata": {},
   "outputs": [
    {
     "output_type": "execute_result",
     "data": {
      "text/plain": "('크리스토퍼 놀란 에게 우리는 놀란 다',\n '인셉션 정말 흥미진진하게 봤었고 크리스토퍼 놀란 감독님 신작 인터스텔라도 이번주 일요일에 보러갑니다 완전 기대중',\n '놀란이면 무조건 봐야 된다 왜냐하면 모든 작품을 다 히트 쳤으니깐')"
     },
     "metadata": {},
     "execution_count": 14
    }
   ],
   "source": [
    "from lovit_textmining_dataset.navermovie_comments import load_movie_comments\n",
    "\n",
    "idxs, texts, rates = load_movie_comments(large=False, tokenize=None)\n",
    "texts[:3]"
   ]
  },
  {
   "cell_type": "code",
   "execution_count": 15,
   "metadata": {},
   "outputs": [
    {
     "output_type": "execute_result",
     "data": {
      "text/plain": "[10, 10, 10]"
     },
     "metadata": {},
     "execution_count": 15
    }
   ],
   "source": [
    "rates[:3]"
   ]
  },
  {
   "cell_type": "markdown",
   "metadata": {},
   "source": [
    "코모란으로 토크나이징을 완료한 데이터를 로딩할 수 있습니다."
   ]
  },
  {
   "cell_type": "code",
   "execution_count": 16,
   "metadata": {},
   "outputs": [
    {
     "output_type": "execute_result",
     "data": {
      "text/plain": "('크리스토퍼/NNP 놀라/VV ㄴ/ETM 에게/JKB 우리/NP 는/JX 놀라/VV ㄴ/ETM 다/MAG',\n '인셉션/NNP 정말/MAG 흥미진진/XR 하/XSA 게/EC 보/VV 았었/EP 고/EC 크리스토퍼/NNP 놀라/VV ㄴ/ETM 감독/NNG 님/XSN 신작/NNP 인터스텔라/NNP 도/JX 이번/NNG 주/NNP 일요일/NNG 에/JKB 보/VV 러/EC 가/VX ㅂ니다/EC 완전/NNG 기대/NNG 중/NNB',\n '놀라/VV ㄴ/ETM 이면/NNP 무조건/MAG 보/VV 아야/EC 되/VV ㄴ다/EC 왜냐하면/MAJ 모든/MM 작품/NNG 을/JKO 다/MAG 히트/NNP 치/VV 었/EP 으니깐/EC')"
     },
     "metadata": {},
     "execution_count": 16
    }
   ],
   "source": [
    "idxs, texts, rates = load_movie_comments(large=False, tokenize='komoran')\n",
    "texts[:3]"
   ]
  },
  {
   "cell_type": "markdown",
   "metadata": {},
   "source": [
    "`num_doc` 을 설정하면 데이터의 일부만 선택할 수도 있습니다."
   ]
  },
  {
   "cell_type": "code",
   "execution_count": 17,
   "metadata": {},
   "outputs": [
    {
     "output_type": "execute_result",
     "data": {
      "text/plain": "1000"
     },
     "metadata": {},
     "execution_count": 17
    }
   ],
   "source": [
    "idxs, texts, rates = load_movie_comments(num_doc=1000)\n",
    "len(texts)"
   ]
  }
 ],
 "metadata": {
  "kernelspec": {
   "display_name": "Python 3",
   "language": "python",
   "name": "python3"
  },
  "language_info": {
   "codemirror_mode": {
    "name": "ipython",
    "version": 3
   },
   "file_extension": ".py",
   "mimetype": "text/x-python",
   "name": "python",
   "nbconvert_exporter": "python",
   "pygments_lexer": "ipython3",
   "version": "3.7.3-final"
  }
 },
 "nbformat": 4,
 "nbformat_minor": 2
}